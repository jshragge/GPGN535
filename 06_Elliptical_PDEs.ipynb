{
 "cells": [
  {
   "cell_type": "code",
   "execution_count": 1,
   "metadata": {},
   "outputs": [
    {
     "data": {
      "text/html": [
       "<script>\n",
       "code_show=true; \n",
       "function code_toggle() {\n",
       " if (code_show){\n",
       " $('div.input').hide();\n",
       " } else {\n",
       " $('div.input').show();\n",
       " }\n",
       " code_show = !code_show\n",
       "} \n",
       "$( document ).ready(code_toggle);\n",
       "</script>\n",
       "The raw code for this Jupyter notebook is by default hidden for easier reading.\n",
       "To toggle on/off the raw code, click <a href=\"javascript:code_toggle()\">here</a>.\n",
       "<style>\n",
       ".output_png {\n",
       "    display: table-cell;\n",
       "    text-align: center;\n",
       "    vertical-align: middle;\n",
       "}\n",
       "</style>\n"
      ],
      "text/plain": [
       "<IPython.core.display.HTML object>"
      ]
     },
     "execution_count": 1,
     "metadata": {},
     "output_type": "execute_result"
    }
   ],
   "source": [
    "from IPython.display import HTML\n",
    "import numpy as np\n",
    "import matplotlib.pyplot as plt\n",
    "from matplotlib import animation\n",
    "\n",
    "import warnings\n",
    "warnings.filterwarnings(\"ignore\")\n",
    "\n",
    "HTML('''<script>\n",
    "code_show=true; \n",
    "function code_toggle() {\n",
    " if (code_show){\n",
    " $('div.input').hide();\n",
    " } else {\n",
    " $('div.input').show();\n",
    " }\n",
    " code_show = !code_show\n",
    "} \n",
    "$( document ).ready(code_toggle);\n",
    "</script>\n",
    "The raw code for this Jupyter notebook is by default hidden for easier reading.\n",
    "To toggle on/off the raw code, click <a href=\"javascript:code_toggle()\">here</a>.\n",
    "<style>\n",
    ".output_png {\n",
    "    display: table-cell;\n",
    "    text-align: center;\n",
    "    vertical-align: middle;\n",
    "}\n",
    "</style>\n",
    "''')"
   ]
  },
  {
   "cell_type": "markdown",
   "metadata": {},
   "source": [
    "![title](figs/title.png)\n",
    "\n",
    "<h1><center>Module 05: Numerical Solutions to Elliptical PDEs</center></h1>\n",
    "\n",
    "This module is largely focused generating numerical solution of elliptical partial differential equations (PDEs).  Recall that elliptical PDEs are a particular class of second-order constant coefficients PDEs that are generally defined by the equation:\n",
    "\n",
    "$$Au_{xx}+2Bu_{xy}+Cu_{yy}+Du_{x}+Eu_{y}+Fu+G=0 \\tag{1}$$\n",
    "\n",
    "where the elliptical condition is defined by $B^2-2AC < 0$. The problems that arise most commonly in geophysics involve the Cartesian Laplacian operator \n",
    "\n",
    "$$\\nabla^2 = \\frac{\\partial^2}{\\partial x^2}+ \\frac{\\partial^2}{\\partial y^2}+ \\frac{\\partial^2}{\\partial z^2}. \\tag{2}$$\n",
    "\n",
    "Two important examples are:\n",
    "\n",
    "   * **Laplace's Equation**: Used to model steady-state (i.e., time-invariant) phenomena where the solution $\\phi=\\phi(x,y,z)$ is known on the boundary of the solution domain $D$ (e.g., $\\left. \\phi\\right|_{\\partial D}=F(x,y,z)$) and there are no \"sources\" of the phenomena inside of the domain:\n",
    "   \n",
    "   $\\nabla^2 \\phi =0. \\tag{2b}$ \n",
    "   \n",
    "   \n",
    "   * **Poisson's Equation**:  Used to model steady-state (i.e., time invariant) phenomena where the solution $\\phi=\\phi(x,y,z)$ is known on the boundary of the solution domain $D$ (e.g., $\\left. \\phi\\right|_{\\partial D}=F(x,y,z)$) where \"sources\" of the phenomena are located inside of the domain:\n",
    "   \n",
    "   $\\nabla^2 \\phi = G(x,y,z). \\tag{2c}$\n",
    "   \n",
    "Examples of the types of problems that can be addressed with these types of equations are:\n",
    "   * Steady-state temperature fields\n",
    "   * Steady-state diffusion processes\n",
    "   * Electrostatics\n",
    "   * Magnetostatics\n",
    "   * Field of constant current density\n",
    "   * Potential flow of an incompressible liquid"
   ]
  },
  {
   "cell_type": "markdown",
   "metadata": {},
   "source": [
    "### Discretization of the 2D Laplace's Equation\n",
    "\n",
    "Let's now begin to appoach a numerical solution of these PDEs by specifying a discretization of the Laplacian operator operator. By following the Taylor series method developed in the previous notes, we can approximate the second-order partial derivative in the $x$-direction by a $O(\\Delta x^2)$ accurate approximation:\n",
    "\n",
    "$$\\frac{\\partial^2 u}{\\partial x^2} \\approx \\frac{u_{i+1,j}-2u_{i,j}+u_{i-1,j}}{\\Delta x^2}. \\tag{3a}$$\n",
    "\n",
    "Similarly, the second-order partial derivative in the $y$-direction is given by\n",
    "\n",
    "$$\\frac{\\partial^2 u}{\\partial y^2} \\approx \\frac{u_{i,j+1}-2u_{i,j}+u_{i,j-1}}{\\Delta y^2}. \\tag{3b}$$\n",
    "\n",
    "Assuming that our discretization interval is the same in both directions (i.e., $\\Delta x = \\Delta y \\equiv h$), then this allows us to combine equations 3a and 3b into the following $O(h^2)$ appoximation:\n",
    "\n",
    "$$\\frac{\\partial^2 u}{\\partial x^2} + \n",
    "  \\frac{\\partial^2 u}{\\partial y^2}\n",
    "  \\approx \n",
    "  \\frac{u_{i+1,j}-2u_{i,j}+u_{i-1,j}}{\\Delta x^2} + \n",
    "  \\frac{u_{i,j+1}-2u_{i,j}+u_{i,j-1}}{\\Delta y^2} = \\frac{u_{i+1,j}+u_{i-1,j}-4u_{i,j}+u_{i,j+1}+u_{i,j-1}}{ h^2}=0. \\tag{4}$$\n",
    "\n",
    "This leads to the following finite-difference stencil:"
   ]
  },
  {
   "cell_type": "code",
   "execution_count": 2,
   "metadata": {},
   "outputs": [
    {
     "data": {
      "image/png": "[encoded data removed]",
      "text/plain": [
       "<Figure size 432x432 with 1 Axes>"
      ]
     },
     "metadata": {
      "needs_background": "light"
     },
     "output_type": "display_data"
    }
   ],
   "source": [
    "plt.figure(figsize=(6,6))\n",
    "nx=ny=5\n",
    "x,y=np.arange(nx),np.zeros(ny)\n",
    "\n",
    "for iy in range(nx):\n",
    "    plt.plot(x,y,'ko')\n",
    "    y+=1\n",
    "plt.plot(1,2,'ro',ms=20)\n",
    "plt.plot(3,2,'ro',ms=20)\n",
    "plt.plot([1,3],[2,2],'r-',linewidth=5)\n",
    "plt.plot(2,1,'ro',ms=20)\n",
    "plt.plot(2,3,'ro',ms=20)\n",
    "plt.plot([2,2],[1,3],'r-',linewidth=5)\n",
    "plt.plot(2,2,'bo',ms=20)\n",
    "\n",
    "plt.ylabel('Y grid: j',fontsize=16)\n",
    "plt.yticks(range(5),fontsize=16)\n",
    "plt.xlabel('X grid: i',fontsize=16)\n",
    "plt.xticks(range(5),fontsize=16)\n",
    "plt.show()"
   ]
  },
  {
   "cell_type": "markdown",
   "metadata": {},
   "source": [
    "**Figure 1. Second-order Laplacian stencil where red and blue points have a weighting of $1$ and $-4$, respectively.**\n",
    "\n",
    "Given the finite-difference stencil in equation 4, it is thus trival to state what the **difference equation** (i.e., discrete numerical approximation) of the Laplace equation is:\n",
    "\n",
    "$$\\nabla^2 u = \\frac{\\partial^2 u}{\\partial x^2} + \n",
    "  \\frac{\\partial^2 u}{\\partial y^2}\n",
    "  \\approx \n",
    "u_{i+1,j}+u_{i-1,j}-4u_{i,j}+u_{i,j+1}+u_{i,j-1} = 0. \\tag{5}$$\n",
    "\n",
    "However, unlike for the 1D advection equation, we no longer have a time-evolution problem! Rather, we have a boundary value problem (BVP) given by the following boundary conditions:"
   ]
  },
  {
   "cell_type": "code",
   "execution_count": 3,
   "metadata": {},
   "outputs": [
    {
     "data": {
      "image/png": "[encoded data removed]",
      "text/plain": [
       "<Figure size 432x432 with 1 Axes>"
      ]
     },
     "metadata": {
      "needs_background": "light"
     },
     "output_type": "display_data"
    }
   ],
   "source": [
    "plt.figure(figsize=(6,6))\n",
    "nx=ny=26\n",
    "x,y=np.arange(nx)/(nx-1),np.zeros(ny)\n",
    "\n",
    "for iy in range(nx):\n",
    "    plt.plot(x,y,'ko')\n",
    "    y+=1/(nx-1)\n",
    "plt.plot(x,  np.zeros(ny),'go',ms=10)\n",
    "plt.plot(x,1+np.zeros(ny),'go',ms=10)\n",
    "plt.plot(np.zeros(ny),x  ,'go',ms=10)\n",
    "plt.plot(np.zeros(ny)+1,x,'go',ms=10)    \n",
    "plt.ylabel('Y (m)',fontsize=16)\n",
    "plt.xlabel('X (m)',fontsize=16)\n",
    "plt.title('Solution space for 2D Laplace Equation',fontsize=20)\n",
    "plt.show()"
   ]
  },
  {
   "cell_type": "markdown",
   "metadata": {},
   "source": [
    "**Figure 2. Example of a solution space for the 2D Laplace equation. Black points represent locations of unknown solution $u_{i,j}$ while those in green are fixed by the boundary conditions.**\n",
    "\n",
    "# Solution by ADI methods\n",
    "\n",
    "Let's now look at a numerical approach that uses an **alternating direction implicit (ADI)** method that **iteratively** updates solutions in one direction (here $x$) and then in the second direction (here $y$).  This is similar to the split-step method discussed in the Lax-Wendroff methods in the previous section of the notes.\n",
    "\n",
    "## Step 1 - Solution in the x direction\n",
    "\n",
    "Let's first write the Laplacian stencil from above in the following manner:\n",
    "\n",
    "$$u_{i+1,j}-4u_{i,j}+u_{i-1,j} = - u_{i,j+1}-u_{i,j-1}. \\tag{6a}$$\n",
    "\n",
    "and now hypothesize that we are introducing a **time-like** step from time level $(m)$ to $(m+1)$, where the brackets are used to indicate that this is time-like ... but not truely time. This gives us the following approximation:\n",
    "\n",
    "$$u^{(m+1)}_{i+1,j}-4u^{(m+1)}_{i,j}+u^{(m+1)}_{i-1,j} = - u^{(m)}_{i,j+1}-u^{(m)}_{i,j-1}. \\tag{6b}$$\n",
    "\n",
    "If now we fix row $j$, we see that this represent a matrix system of equations of the form ${\\bf Ax} = {\\bf b}$:\n",
    "\n",
    "$$\n",
    "\\left[\n",
    "\\begin{array}{ccccccc}\n",
    "-4 & 1 & 0 & 0 & ... & 0&0 &0 &0 \\\\\n",
    "1 & -4 & 1 & 0 &... & 0&0  &0 &0 \\\\\n",
    "0 & 1 & -4 & 1 & ... & 0&0 &0 &0 \\\\\n",
    "\\vdots & \\vdots & \\vdots& \\vdots & \\ddots & \\vdots &\\vdots &\\vdots & \\vdots\\\\\n",
    "0 &0&0&0&...&1&-4&1&0\\\\\n",
    "0 &0&0&0&...&0&1&-4&1\\\\\n",
    "0 &0&0&0&...&0&0&1&-4\\\\\n",
    "\\end{array}\n",
    "\\right]\n",
    "\\left[\n",
    "\\begin{array}{c}\n",
    "u^{(m+1)}_{0,j} \\\\\n",
    "u^{(m+1)}_{1,j} \\\\\n",
    "u^{(m+1)}_{2,j} \\\\\n",
    "\\vdots\\\\\n",
    "u^{(m+1)}_{I-2,j} \\\\\n",
    "u^{(m+1)}_{I-1,j} \\\\\n",
    "u^{(m+1)}_{I,j} \\\\\n",
    "\\end{array}\n",
    "\\right]\n",
    "=\n",
    "\\left[\n",
    "\\begin{array}{c}\n",
    "-U^{(m)}_{0,j+1} - U^{(m)}_{0,j-1} \\\\\n",
    "-U^{(m)}_{1,j+1} - U^{(m)}_{1,j-1} \\\\\n",
    "-U^{(m)}_{2,j+1} - U^{(m)}_{2,j-1} \\\\\n",
    "\\vdots\\\\\n",
    "-U^{(m)}_{I-2,j+1} - U^{(m)}_{I-2,j-1} \\\\\n",
    "-U^{(m)}_{I-1,j+1} - U^{(m)}_{I-1,j-1} \\\\\n",
    "-U^{(m)}_{I,j+1} - U^{(m)}_{I,j-1} \\\\\n",
    "\\end{array}\n",
    "\\right]. \\tag{7}\n",
    "$$\n",
    "\n",
    "where matrices ${\\bf A}$ and ${\\bf b}$ are known.  Note that the range of $x$-index goes from $i=0,I$ while the range of the $y$-index goes from $j=0,J$. To solve this equation, we can use some of the methods discussed in numerical linear algebra section (e.g., Gaussian Elimination) to calculate the numerical solution.  One then iterates over each $j$ row to generate the solution at pseudo time-step $(m+1)$. Thus, we have to solve the system given by equation 7 a total of $J-1$ times (because you don't have to calculate the solutions right at boundaries $j=0$ and $j=J$!)."
   ]
  },
  {
   "cell_type": "markdown",
   "metadata": {},
   "source": [
    "## Step 2 - Solution in the y direction\n",
    "\n",
    "Let's now rewrite the Laplacian stencil from above in the following manner:\n",
    "\n",
    "$$u_{i,j+1}-4u_{i,j}+u_{i,j-1} = - u_{i+1,j}-u_{i-1,j}. \\tag{8a}$$\n",
    "\n",
    "and again hypothesize that we are going to use a **time-like** step from $(m+1)$ calculated in Step 1 above to step $(m+2)$.  This gives us the following approximation:\n",
    "\n",
    "$$u^{(m+2)}_{i,j+2}-4u^{(m+2)}_{i,j}+u^{(m+2)}_{i,j-1} = - u^{(m+1)}_{i+1,j}-u^{(m+1)}_{i-1,j}. \\tag{8b}$$\n",
    "\n",
    "If now we fix row $i$, we see that this again represents a matrix system of equations of the form ${\\bf Ax} = {\\bf b}$:\n",
    "\n",
    "$$\n",
    "\\left[\n",
    "\\begin{array}{ccccccc}\n",
    "-4 & 1 & 0 & 0 & ... & 0&0 &0 &0 \\\\\n",
    "1 & -4 & 1 & 0 &... & 0&0  &0 &0 \\\\\n",
    "0 & 1 & -4 & 1 & ... & 0&0 &0 &0 \\\\\n",
    "\\vdots & \\vdots & \\vdots & \\vdots & \\ddots & \\vdots &\\vdots &\\vdots &\\vdots \\\\\n",
    "0 &0&0&0&...&1&-4&1&0\\\\\n",
    "0 &0&0&0&...&0&1&-4&1\\\\\n",
    "0 &0&0&0&...&0&0&1&-4\\\\\n",
    "\\end{array}\n",
    "\\right]\n",
    "\\left[\n",
    "\\begin{array}{c}\n",
    "u^{(m+2)}_{i,0} \\\\\n",
    "u^{(m+2)}_{i,1} \\\\\n",
    "u^{(m+2)}_{i,2} \\\\\n",
    "\\vdots\\\\\n",
    "u^{(m+2)}_{i,J-2} \\\\\n",
    "u^{(m+2)}_{i,J-1} \\\\\n",
    "u^{(m+2)}_{i,J  } \\\\\n",
    "\\end{array}\n",
    "\\right]\n",
    "=\n",
    "\\left[\n",
    "\\begin{array}{c}\n",
    "-U^{(m+1)}_{i+1,0} - U^{(m+1)}_{i-1,0} \\\\\n",
    "-U^{(m+1)}_{i+1,1} - U^{(m+1)}_{i-1,1} \\\\\n",
    "-U^{(m+1)}_{i+1,2} - U^{(m+1)}_{i-1,2} \\\\\n",
    "\\vdots\\\\\n",
    "-U^{(m+1)}_{i+1,J-2} - U^{(m+1)}_{i-1,J-2} \\\\\n",
    "-U^{(m+1)}_{i+1,J-1} - U^{(m+1)}_{i-1,J-1} \\\\\n",
    "-U^{(m+1)}_{i+1,J  } - U^{(m+1)}_{i-1,J  } \\\\\n",
    "\\end{array}\n",
    "\\right]. \\tag{9}\n",
    "$$\n",
    "\n",
    "where matrices ${\\bf A}$ and ${\\bf b}$ are again known. One then iterates over each $i$ column (for a total of $I-1$ time steps because you don't have to calculate at the $i=0$ and $i=I+1$ boundaries!) to generate the solution at pseudo time-step $(m+2)$."
   ]
  },
  {
   "cell_type": "markdown",
   "metadata": {},
   "source": [
    "# Example 1 - Laplace's Equation with Variable Boundary Conditions\n",
    "\n",
    "**QUESTION:** Let's look at an example where we want to generate a solution $u$ to the 2D Laplace's equation\n",
    "\n",
    "$$\\nabla^2u =0 \\tag{10}$$\n",
    "\n",
    "on a square solution domain defined by $x,y\\in[0,3]$ where we have the following boundary conditions:\n",
    "\n",
    "$$\n",
    "\\begin{eqnarray}\n",
    "u(x,y=0)&=&x^4 \\tag{11a} \\\\ \n",
    "u(x,y=3)&=&x^4-54x^2+81 \\tag{11b} \\\\ \n",
    "u(x=0,y)&=&y^4 \\tag{11c} \\\\\n",
    "u(x=3,y)&=&y^4-54y^2+81 \\tag{11d} \\\\\n",
    "\\end{eqnarray}\n",
    "$$\n",
    "\n",
    "where the known analytic solution throughout the domain is given by:\n",
    "\n",
    "$$ u(x,y)= x^4 - 6x^2 y^2+y^4. \\tag{12} $$\n",
    "\n",
    "**ANSWER:** Let's first make it easy on ourselves by define a few helpful functions. The subroutine below defines a tridiagonal matrix where the value of the main diagonal is $b$, and the sub- and superdiagonals are $a$ and $c$, respectively, and the dimensional of the $n\\times n$ matrix is $n$.  "
   ]
  },
  {
   "cell_type": "code",
   "execution_count": 4,
   "metadata": {},
   "outputs": [],
   "source": [
    "def Setup_Tridiagonal(a,b,c,n):\n",
    "    '''Set up regular tridiagonal matrix \n",
    "    usage: x = Gauss_elimination(A,b,print_process=False):\n",
    "    input: \n",
    "        a: value along -1 subdiagonal\n",
    "        b: value along main diagonal\n",
    "        c: value along +1 supediagonal\n",
    "        n: dimension of NxN matrix\n",
    "    output:\n",
    "        A: tridiagonal matrix\n",
    "    written by Jeff Shragge, jshragge@mines.edu, 10/2019\n",
    "    '''\n",
    "    return np.diag(a*np.ones(n-1),-1)+np.diag(b*np.ones(n),0)+np.diag(c*np.ones(n-1),1)"
   ]
  },
  {
   "cell_type": "markdown",
   "metadata": {},
   "source": [
    "Let's make a quick plot to visualize the function:"
   ]
  },
  {
   "cell_type": "code",
   "execution_count": 5,
   "metadata": {},
   "outputs": [
    {
     "data": {
      "image/png": "[encoded data removed]",
      "text/plain": [
       "<Figure size 432x288 with 2 Axes>"
      ]
     },
     "metadata": {
      "needs_background": "light"
     },
     "output_type": "display_data"
    }
   ],
   "source": [
    "a=c=1\n",
    "b=-4\n",
    "n=10\n",
    "A = Setup_Tridiagonal(a,b,c,n);\n",
    "plt.figure()\n",
    "plt.imshow(A,cmap='jet',extent=[0,n,0,n],vmin=b,vmax=a)\n",
    "plt.colorbar()\n",
    "plt.show()"
   ]
  },
  {
   "cell_type": "markdown",
   "metadata": {},
   "source": [
    "**Figure 3. Looking at the tridiagonal matrix required for the 2D ADI solution.**\n",
    "\n",
    "Let's now develop the subroutine that computes the ADI solution. Below I have witten a function that takes in current solution $U_0$ and outputs the solution after doing one iteration of the ADI method in both directions."
   ]
  },
  {
   "cell_type": "code",
   "execution_count": 6,
   "metadata": {},
   "outputs": [],
   "source": [
    "def ADI_Solution(U):\n",
    "    '''Set up Alternating Direction Solution of Laplace's Equation\n",
    "    usage: U = ADI_Solution(U)\n",
    "    input: \n",
    "        U: starting field\n",
    "    output:\n",
    "        U: solution updated in both directions\n",
    "    dependencies:\n",
    "        Setup_Tridiagonal\n",
    "        np.linalg.solve\n",
    "    written by Jeff Shragge, jshragge@mines.edu, 10/2019\n",
    "    '''    \n",
    "    ## . . Array dimensions from the input file\n",
    "    nx,ny = np.size(U,0),np.size(U,1)\n",
    "    \n",
    "    ## . . Allocated dummy array to be used as a temporary solution\n",
    "    U1 = np.zeros((nx,ny))\n",
    "    \n",
    "    ## . . Define tridiagonal matrix in X\n",
    "    Ax = Setup_Tridiagonal(1, -4, 1, nx)\n",
    "    bx = np.zeros((nx))\n",
    "\n",
    "    ## . . Define tridiagonal matrix in Y\n",
    "    Ay = Setup_Tridiagonal(1, -4, 1, ny)\n",
    "    by = np.zeros((ny))\n",
    "\n",
    "    ## . . STEP 1 (solve in the x direction and loop over j - y)\n",
    "    ## . . Note that we're writing the results to temporary array U1\n",
    "    for jj in range(1,ny-1):\n",
    "        bx = -U[:,jj-1]-U[:,jj+1]    \n",
    "        U1[:,jj] = np.linalg.solve(Ax,bx)\n",
    "        \n",
    "    ## . . Force boundary conditions\n",
    "    U1[:   ,0] = U[:   ,0]\n",
    "    U1[0   ,:] = U[0   ,:]\n",
    "    U1[:,ny-1] = U[:,ny-1]\n",
    "    U1[nx-1,:] = U[nx-1,:]\n",
    "\n",
    "    ## . . STEP 2 (solve in the x direction and loop over j - y)\n",
    "    ## . . Note that we're now rewriting the updated result back to U \n",
    "    for ii in range(1,nx-1):\n",
    "        by = -U1[ii-1,:]-U1[ii+1,:]\n",
    "        U[ii,:] = np.linalg.solve(Ay,by)\n",
    "        \n",
    "    ## . .Force boundary conditions\n",
    "    U[:   ,0] = U1[:   ,0]\n",
    "    U[0   ,:] = U1[0   ,:]\n",
    "    U[:,ny-1] = U1[:,ny-1]\n",
    "    U[nx-1,:] = U1[nx-1,:]\n",
    "    \n",
    "    ## . . Return the U solution array after a complete cycle of x and y updating!\n",
    "    return U"
   ]
  },
  {
   "cell_type": "markdown",
   "metadata": {},
   "source": [
    "Let's now setup the solution space, state the boundary conditions, and call the solver."
   ]
  },
  {
   "cell_type": "code",
   "execution_count": 7,
   "metadata": {},
   "outputs": [
    {
     "data": {
      "text/html": [
       "\n",
       "<video width=\"800\" controls style=\"display:block; margin:0 auto;\">\n",
       "  <source src=\"./movies/Ex5_1.mp4\" type=\"video/mp4\">\n",
       "</video>\n"
      ],
      "text/plain": [
       "<IPython.core.display.HTML object>"
      ]
     },
     "execution_count": 7,
     "metadata": {},
     "output_type": "execute_result"
    }
   ],
   "source": [
    "## . . Space axis parameters\n",
    "nt = 250 # number of iterations\n",
    "xmin,xmax,ymin,ymax=0,3,0,3\n",
    "nx,ny=50,50\n",
    "xx = np.linspace(xmin,xmax,nx)\n",
    "yy = np.linspace(ymin,ymax,ny)\n",
    "h = xx[1]-xx[0]\n",
    "\n",
    "## . . Initialize\n",
    "U0 = np.zeros((nx,ny))\n",
    "\n",
    "## . . Boundary Conditions\n",
    "U0[:   ,0] = xx**4\n",
    "U0[0   ,:] = yy**4\n",
    "U0[:,ny-1] = 81-54*xx**2+xx**4\n",
    "U0[nx-1,:] = 81-54*yy**2+yy**4\n",
    "\n",
    "# . . True function values\n",
    "tr = np.zeros((nx,ny))\n",
    "for ix in range(nx):\n",
    "    for iy in range(ny):\n",
    "        tr[ix,iy]=xx[ix]**4-6*xx[ix]**2*yy[iy]**2+yy[iy]**4\n",
    "\n",
    "# . . Plotting min/max\n",
    "vmin,vmax = np.min(tr),np.max(tr)\n",
    "\n",
    "## . . Movie solution\n",
    "c = np.zeros((nx,ny,nt))\n",
    "\n",
    "## . . Call Solution\n",
    "for i in range(nt):\n",
    "    c[:,:,i]=U0\n",
    "    value = ADI_Solution(U0)\n",
    "    U0 = value\n",
    "\n",
    "err = np.zeros((nt))\n",
    "for ii in range(nt):\n",
    "    x = c[:,:,ii]\n",
    "    err[ii] = np.linalg.norm(tr-x)     \n",
    "err=err/err[0]\n",
    "\n",
    "## . . Animate Solution and compute error\n",
    "k = 0\n",
    "kskip=5\n",
    "\n",
    "## . . Set up movie\n",
    "fig,ax = plt.subplots(1,3)\n",
    "fig.subplots_adjust(0,0,1,1)\n",
    "fig.set_dpi(100)\n",
    "\n",
    "def Laplace_animate(i):\n",
    "    global k\n",
    "    x = c[:,:,k]\n",
    "    ax[0].imshow(tr,cmap='jet',extent=[xmin,xmax,ymin,ymax],vmin=vmin,vmax=vmax)\n",
    "    ax[0].set(xlabel='X(m)', ylabel='Y(m)')\n",
    "    ax[0].set_title('ANALYT',fontsize=14)\n",
    "    ax[1].imshow(x ,cmap='jet',extent=[xmin,xmax,ymin,ymax],vmin=vmin,vmax=vmax)\n",
    "    ax[1].set(xlabel='X(m)', ylabel='Y(m)')\n",
    "    ax[1].set_title('NUM Step %s'%k,fontsize=14)\n",
    "    ax[2].imshow(tr-x ,cmap='jet',extent=[xmin,xmax,ymin,ymax],vmin=vmin,vmax=vmax)\n",
    "    ax[2].set(xlabel='X(m)', ylabel='Y(m)')\n",
    "    ax[2].set_title('DIFF Step %s'%k,fontsize=14)\n",
    "    k += kskip\n",
    "    plt.tight_layout()\n",
    "\n",
    "## . . Call the animator\n",
    "anim1 = animation.FuncAnimation(fig,\n",
    "                            Laplace_animate,\n",
    "                            frames=int((nt-2*kskip)/kskip),\n",
    "                            interval=100)\n",
    "anim1.save('./movies/Ex5_1.mp4')\n",
    "plt.close()\n",
    "\n",
    "HTML(\"\"\"\n",
    "<video width=\"800\" controls style=\"display:block; margin:0 auto;\">\n",
    "  <source src=\"./movies/Ex5_1.mp4\" type=\"video/mp4\">\n",
    "</video>\n",
    "\"\"\")"
   ]
  },
  {
   "cell_type": "markdown",
   "metadata": {},
   "source": [
    "**Figure 4. Movie showing the time evolution of the ADI solution. Left: Analytic solution $u(x,y)=x^4-6x^2y^2+y^4$. Center: Numerical solution animated at each solution step. Right: difference between the analytic and numerical solutions.**\n"
   ]
  },
  {
   "cell_type": "markdown",
   "metadata": {},
   "source": [
    "We can now plot the movie.  Here, I've plotted the analytic solution (left), the numerical solution (center) and the difference between the two (right)."
   ]
  },
  {
   "cell_type": "markdown",
   "metadata": {},
   "source": [
    "Now, if the analytic and numerical solutions are given by $a_{i,j}$ and $u^{(2m)}_{i,j}$, respectively, we can examine at how the overall error \n",
    "\n",
    "$$err(m) = \\sqrt{\\sum_{i,j}  \\left(a_{i,j}-u^{(2m)}_{i,j}\\right)^2}\\tag{10}$$\n",
    "\n",
    "changes as a function of iteration number. Here, I have plotted the error value as a function of step $m$ normalized by the error value at the first iteration $err(0)$."
   ]
  },
  {
   "cell_type": "code",
   "execution_count": 8,
   "metadata": {},
   "outputs": [
    {
     "data": {
      "image/png": "[encoded data removed]",
      "text/plain": [
       "<Figure size 432x288 with 1 Axes>"
      ]
     },
     "metadata": {
      "needs_background": "light"
     },
     "output_type": "display_data"
    }
   ],
   "source": [
    "## . . Set up movie\n",
    "fig2 = plt.figure()\n",
    "plt.plot(range(nt),err)\n",
    "plt.xlabel('Iteration Number',fontsize=12),plt.ylabel('Normalized L2 error',fontsize=12)\n",
    "plt.show()"
   ]
  },
  {
   "cell_type": "markdown",
   "metadata": {},
   "source": [
    "**Figure 5. Least-squares error between the analytic and numerical solution. Note that it hasn't converged.**"
   ]
  },
  {
   "cell_type": "markdown",
   "metadata": {},
   "source": [
    "# Example 2 - Poisson's Equation (Steady-state Heat with Sources)\n",
    "\n",
    "**QUESTION:** Let's look at an example where we want to generate a solution to the 2D Poisson's equation for steady-state heat flow where there are now **heat sinks and sources** within the solution domain.  Here, we want to estimate the temperature (i.e., where u = T(x,y)) due to the distribution of the given heat sources and sinks (i.e., $F(x,y)$).  The PDE governing this is the following:\n",
    "\n",
    "$$\\nabla^2 T = F(x,y) \\tag{10}$$\n",
    "\n",
    "where we will assume a rectilinear solution domain defined by $x,y\\in[0,1]$ and that we have the following boundary conditions:\n",
    "\n",
    "$$\n",
    "\\begin{eqnarray}\n",
    "T(x,y=0)&=& 0 \\tag{11a} \\\\ \n",
    "T(x,y=1)&=& 0 \\tag{11b} \\\\ \n",
    "T(x=0,y)&=& 0 \\tag{11c} \\\\\n",
    "T(x=1,y)&=& 0 \\tag{11d} \\\\\n",
    "\\end{eqnarray}\n",
    "$$\n",
    "\n",
    "where $F(x,y)$ is a forcing term given by four delta-function-like heaters and coolers:\n",
    "\n",
    "$$F(x,y) = \n",
    "\\left[\n",
    "\\delta\\left(x-\\frac{1}{4}\\right)\\delta\\left(y-\\frac{1}{4}\\right)-\n",
    "\\delta\\left(x-\\frac{3}{4}\\right)\\delta\\left(y-\\frac{1}{4}\\right)-\n",
    "\\delta\\left(x-\\frac{1}{4}\\right)\\delta\\left(y-\\frac{3}{4}\\right)+\n",
    "\\delta\\left(x-\\frac{3}{4}\\right)\\delta\\left(y-\\frac{3}{4}\\right) \n",
    "\\right]. \\tag{12}$$"
   ]
  },
  {
   "cell_type": "markdown",
   "metadata": {},
   "source": [
    "**ANSWER:** We can reuse much of the machinary that we developed above in our solution to Laplace's equation.  However, this time we need to be careful about satisifying the forcing term $F(x,y)=F_{i,j}$.  Here, we are going to assume that $\\Delta x = \\Delta y = h$.  Thus, we write\n",
    "\n",
    "$$\n",
    "\\begin{eqnarray}\n",
    "\\frac{\\partial^2 T}{\\partial x^2} + \n",
    "  \\frac{\\partial^2 T}{\\partial y^2}\n",
    "  &\\approx & \n",
    "  \\frac{T_{i+1,j}-2T_{i,j}+T_{i-1,j}}{\\Delta x^2} + \n",
    "  \\frac{T_{i,j+1}-2T_{i,j}+T_{i,j-1}}{\\Delta y^2} = F_{i,j}\\\\\n",
    "  &=& \n",
    "  \\frac{T_{i+1,j}+T_{i-1,j}-4T_{i,j}+T_{i,j+1}+T_{i,j-1}}{ h^2}= F_{i,j}\n",
    "  \\end{eqnarray}\n",
    "\\tag{13}$$\n",
    "  \n",
    "We can then develop the following two finite-difference equations that can be used in the two-step ADI method above\n",
    "\n",
    "**STEP 1:**\n",
    "\n",
    "$$T^{(m+1)}_{i+1,j}-4T^{(m+1)}_{i,j}+T^{(m+1)}_{i-1,j}=  h^2 F_{i,j}-T^{(m  )}_{i,j+1}-T^{(m  )}_{i,j-1} \\tag{14a}$$\n",
    "\n",
    "**STEP 2:**\n",
    "\n",
    "$$T^{(m+2)}_{i,j+1}-4T^{(m+2)}_{i,j}+T^{(m+2)}_{i,j-1}=  h^2 F_{i,j}-T^{(m+1)}_{i+1,j}-T^{(m+1)}_{i-1,j} \\tag{14b}$$\n",
    "\n",
    "Let's first adapt what we had above to include the forcing term $F(x,y)$."
   ]
  },
  {
   "cell_type": "code",
   "execution_count": 9,
   "metadata": {},
   "outputs": [],
   "source": [
    "def ADI_Solution_Forcing(U,h,F):\n",
    "    '''Set up Alternating Direction Solution of Poisson Equation\n",
    "    usage: U = ADI_Solution(U,h,F)\n",
    "    input: \n",
    "        U: starting field\n",
    "        h: sample interval\n",
    "        F: Forcing Field\n",
    "    output:\n",
    "        U: solution updated in both directions\n",
    "    dependencies:\n",
    "        Setup_Tridiagonal\n",
    "        np.linalg.solve\n",
    "    written by Jeff Shragge, jshragge@mines.edu, 10/2019\n",
    "    '''    \n",
    "    ## . . Array dimensions from the input file\n",
    "    nx,ny = np.size(U,0),np.size(U,1)\n",
    "    \n",
    "    ## . . Allocated dummy array to be used as a temporary solution\n",
    "    U1 = np.zeros((nx,ny))\n",
    "    \n",
    "    ## . . Define tridiagonal matrix in X\n",
    "    Ax = Setup_Tridiagonal(1, -4, 1, nx)\n",
    "    bx = np.zeros((nx))\n",
    "\n",
    "    ## . . Define tridiagonal matrix in Y\n",
    "    Ay = Setup_Tridiagonal(1, -4, 1, ny)\n",
    "    by = np.zeros((ny))\n",
    "\n",
    "    ## . . STEP 1 (solve in the x direction and loop over j - y)\n",
    "    ## . . Note that we're writing the results to temporary array U1\n",
    "    for jj in range(1,ny-1):\n",
    "        bx = h*h*F[:,jj]-U[:,jj-1]-U[:,jj+1]   \n",
    "        U1[:,jj] = np.linalg.solve(Ax,bx)\n",
    "        \n",
    "    ## . . Force boundary conditions\n",
    "    U1[:   ,0] = U[:   ,0]\n",
    "    U1[0   ,:] = U[0   ,:]\n",
    "    U1[:,ny-1] = U[:,ny-1]\n",
    "    U1[nx-1,:] = U[nx-1,:]\n",
    "\n",
    "    ## . . STEP 2 (solve in the x direction and loop over j - y)\n",
    "    ## . . Note that we're now rewriting the updated result back to U \n",
    "    for ii in range(1,nx-1):\n",
    "        by = h*h*F[ii,:]-U1[ii-1,:]-U1[ii+1,:]\n",
    "        U[ii,:] = np.linalg.solve(Ay,by)\n",
    "        \n",
    "    ## . .Force boundary conditions\n",
    "    U[:   ,0] = U1[:   ,0]\n",
    "    U[0   ,:] = U1[0   ,:]\n",
    "    U[:,ny-1] = U1[:,ny-1]\n",
    "    U[nx-1,:] = U1[nx-1,:]\n",
    "    return U"
   ]
  },
  {
   "cell_type": "markdown",
   "metadata": {},
   "source": [
    "Let's now define our solution domain, discretization, and solve below:"
   ]
  },
  {
   "cell_type": "code",
   "execution_count": 10,
   "metadata": {},
   "outputs": [
    {
     "data": {
      "text/html": [
       "\n",
       "<video width=\"800\" controls style=\"display:block; margin:0 auto;\">\n",
       "  <source src=\"./movies/Ex5_2.mp4\" type=\"video/mp4\">\n",
       "</video>\n"
      ],
      "text/plain": [
       "<IPython.core.display.HTML object>"
      ]
     },
     "execution_count": 10,
     "metadata": {},
     "output_type": "execute_result"
    }
   ],
   "source": [
    "## . . Space axis parameters\n",
    "nt = 250 # number of iterations\n",
    "xmin,xmax,ymin,ymax=0,1,0,1\n",
    "nx,ny=100,100\n",
    "xx = np.linspace(xmin,xmax,nx)\n",
    "yy = np.linspace(ymin,ymax,ny)\n",
    "h = xx[1]-xx[0]\n",
    "\n",
    "## . . Set up forcing term\n",
    "FF = np.zeros((nx,ny))\n",
    "FF[ 25,  25]=+1.\n",
    "FF[ 75,  25]=-1.\n",
    "FF[ 25,  75]=-1.\n",
    "FF[ 75,  75]=+1.\n",
    "\n",
    "## . . Initialize solution\n",
    "U0 = np.zeros((nx,ny))+FF # . . Note boundary conditions are set as well\n",
    "\n",
    "# . . Plotting min/max\n",
    "vmin,vmax = 0,1\n",
    "\n",
    "## . . Movie solution\n",
    "e = np.zeros((nx,ny,nt))\n",
    "conv = np.zeros((nt)) # . . For convergence\n",
    "\n",
    "## . . Call Solution\n",
    "for i in range(nt):\n",
    "    e[:,:,i]=U0\n",
    "    value = ADI_Solution_Forcing(U0,h,FF)\n",
    "    U0 = value\n",
    "    conv[i] = np.linalg.norm(e[:,:,i]-U0)  ## . . Let's examine the convergence\n",
    "conv=conv/conv[0] ## . . Normalize\n",
    "\n",
    "## . . Animate Solution and compute error\n",
    "k = 0\n",
    "kskip=5\n",
    "## . . Set up movie\n",
    "fig3,ax3 = plt.subplots(1)\n",
    "fig3.subplots_adjust(0.1,0.1,0.9,0.9)\n",
    "fig3.set_dpi(100)\n",
    "\n",
    "def Poisson_animate(i):\n",
    "    global k\n",
    "    x = e[:,:,k]\n",
    "    ax3.imshow(x,cmap='jet',extent=[xmin,xmax,ymin,ymax])\n",
    "    ax3.set(xlabel='X(m)', ylabel='Y(m)')\n",
    "    ax3.set_title('NUMERICAL Step %s'%k,fontsize=14)\n",
    "    k += kskip\n",
    "\n",
    "## . . Call the animator\n",
    "anim2 = animation.FuncAnimation(fig3,Poisson_animate,frames=int((nt-2*kskip)/kskip),interval=100)\n",
    "anim2.save('./movies/Ex5_2.mp4')\n",
    "plt.close()\n",
    "\n",
    "HTML(\"\"\"\n",
    "<video width=\"800\" controls style=\"display:block; margin:0 auto;\">\n",
    "  <source src=\"./movies/Ex5_2.mp4\" type=\"video/mp4\">\n",
    "</video>\n",
    "\"\"\")"
   ]
  },
  {
   "cell_type": "markdown",
   "metadata": {},
   "source": [
    "**Figure 6. Movie showing the convergence of the numerical solution to Poisson's equation for temperature distribution $T(x,y)$ assuming two heat sources and two heat sinks where $T=0$ on the boundaries.**\n",
    "\n",
    "We can also look at the rate at which the solution is change, which is a measure of the **rate of convergence**.  In the figure below, we see that it is changing rapidly in the first, say, 150 iterations, but then is not changing much after this. As we will see in the lab, a good way to end the simulation is the include both the maximum number of iterations as well as a **stopping criterion** when the overall solution no longer changes more than some small number $\\epsilon$."
   ]
  },
  {
   "cell_type": "code",
   "execution_count": 11,
   "metadata": {},
   "outputs": [
    {
     "data": {
      "image/png": "[encoded data removed]",
      "text/plain": [
       "<Figure size 432x288 with 1 Axes>"
      ]
     },
     "metadata": {
      "needs_background": "light"
     },
     "output_type": "display_data"
    }
   ],
   "source": [
    "plt.figure()\n",
    "plt.plot(range(nt),conv,'k',range(nt),conv,'r*')\n",
    "plt.xlabel('Iteration Number'); plt.ylabel('Relative Change')\n",
    "plt.show()"
   ]
  },
  {
   "cell_type": "markdown",
   "metadata": {},
   "source": [
    "**Figure 7.  Convergence plot showing the relative change between the $(m+2)$ and $(m)$ solutions of the ADI solution method. Note that the majority of the change occurs within the first five iterations. However, by watching the movie we see that much information is actually filled during the later stages!** "
   ]
  },
  {
   "cell_type": "markdown",
   "metadata": {},
   "source": [
    "# Example 3 - Including Heterogenity\n",
    "\n",
    "So far, we have not really looked at situations where there might be heterogeneity in the medium.  A common example would be what happens in steady-state processes (e.g., heat flow, diffusion processes) when one has material that is **spatially varying**? Let's again consider the scenario where we are examining steady-state heat flow. \n",
    "\n",
    "In these cases, we must look at a slightly different version of the Laplace's (or Poisson's) equation from that presented above: \n",
    "\n",
    "$$\\nabla \\cdot \\left( K \\nabla T\\right) = 0 \\tag{15a}$$\n",
    "\n",
    "or explictly in 2D\n",
    "\n",
    "$$ \\frac{\\partial}{\\partial x} \\left( K \\frac{\\partial u}{\\partial x} \\right)+\\frac{\\partial}{\\partial y} \\left( K \\frac{\\partial u}{\\partial y}\\right) = 0, \\tag{15b}$$\n",
    "\n",
    "where $K=K(x,y)$ is a spatially heterogeneous thermal conductivity field.  In these cases we can do something a bit different that involves taking a **second-order PDF** and breaking it down into **two first-order PDEs**.  If we let **auxilliary variables** $v$ and $w$ be defined in the following way:\n",
    "\n",
    "$$ v = K \\frac{\\partial u}{\\partial x}, \\tag{16a}$$\n",
    "$$ w = K \\frac{\\partial u}{\\partial y}, \\tag{16b}$$\n",
    "\n",
    "then we can use them to calculate the following:\n",
    "\n",
    "$$ \\frac{\\partial v}{\\partial x} + \\frac{\\partial w}{\\partial y} = 0, \\tag{17}$$\n",
    "\n",
    "which will satisfy Laplace's equation for heterogenous fields."
   ]
  },
  {
   "cell_type": "markdown",
   "metadata": {},
   "source": [
    "### Numerical solution\n",
    "\n",
    "Let's write equation 16a and 16b in the following way that uses forward differences for the gradient operator:\n",
    "\n",
    "$$v_{i,j} = K_{i,j}\\left( \\frac{ u_{i+1,j} - u_{i,j}}{h}  \\right) \\tag{18a} $$\n",
    "$$w_{i,j} = K_{i,j}\\left( \\frac{ u_{i,j+1} - u_{i,j}}{h}  \\right) \\tag{18b} $$\n",
    "\n",
    "we can then apply a backward difference when we apply the divergence operator:\n",
    "\n",
    "$$ \\frac{v_{i,j} - v_{i-1,j}}{h} + \\frac{w_{i,j} - w_{i,j-1}}{h}=0\\tag{19}$$\n",
    "\n",
    "However, we know the value of these four numerical approximations in terms of $u_{i,j}$.  Thus, we can rewrite equation 19 as\n",
    "\n",
    "$$ \\frac{K_{i,j}\\left( \\frac{ u_{i+1,j} - u_{i,j}}{h}  \\right)  - K_{i-1,j}\\left( \\frac{ u_{i,j} - u_{i-1,j}}{h}  \\right)   }{h} + \\frac{ K_{i,j}\\left( \\frac{ u_{i,j+1} - u_{i,j}}{h}  \\right) - K_{i,j-1}\\left( \\frac{ u_{i,j} - u_{i,j-1}}{h}  \\right)  }{h}=0\\tag{20}$$\n",
    "\n",
    "Noting that all of $h$ terms can be eliminated simplifies equation 20 to:\n",
    "\n",
    "$$ K_{i,j}\\left(  u_{i+1,j} - u_{i,j}  \\right)  - K_{i-1,j}\\left( u_{i,j} - u_{i-1,j}  \\right)  +  K_{i,j}\\left(  u_{i,j+1} - u_{i,j}  \\right) - K_{i,j-1}\\left(  u_{i,j} - u_{i,j-1}  \\right)=0\\tag{21}$$\n",
    "\n",
    "Regrouping terms leads to the following:\n",
    "\n",
    "$$K_{i,j} u_{i+1,j} - K_{i,j}u_{i,j} - K_{i-1,j}u_{i,j} + K_{i-1,j}u_{i-1,j} +K_{i,j}u_{i,j+1} - K_{i,j} u_{i,j} - K_{i,j-1}  u_{i,j} +  K_{i,j-1}u_{i,j-1}  = 0 \\tag{22}$$\n",
    "\n",
    "Collecting terms for $u_{i,j}$ gives:\n",
    "\n",
    "$$K_{i,j} u_{i+1,j} + K_{i-1,j}u_{i-1,j} - \\left(2K_{i,j}+ K_{i-1,j}+K_{i,j-1}\\right) u_{i,j} + K_{i,j}u_{i,j+1} +  K_{i,j-1}u_{i,j-1}  = 0. \\tag{23}$$\n",
    "\n",
    "Note that if $K$ is constant then we recover exactly what we had in equation 4 above!"
   ]
  },
  {
   "cell_type": "markdown",
   "metadata": {},
   "source": [
    "## ADI Solution\n",
    "\n",
    "Let's follow our solution approach above by alternating the direction of the solution.  Thus, in the x-direction at pseudo-timestep $(m+1)$ we have\n",
    "\n",
    "$$K_{i,j} u^{(m+1)}_{i+1,j} + K_{i-1,j}u^{(m+1)}_{i-1,j} - \\left(2K_{i,j}+ K_{i-1,j}+K_{i,j-1}\\right) u^{(m+1)}_{i,j} = - K_{i,j}u^{(m)}_{i,j+1} -  K_{i,j-1}u^{(m)}_{i,j-1}. \\tag{24} $$\n",
    "\n",
    "Similaly, in the y-direction at pseudo-timestep $(m+2)$ we will have\n",
    "\n",
    "$$ K_{i,j}u^{(m+2)}_{i,j+1} +  K_{i,j-1}u^{(m+2)}_{i,j-1} - \\left(2K_{i,j}+ K_{i-1,j}+K_{i,j-1}\\right) u^{(m+2)}_{i,j} =  -K_{i,j} u^{(m+1)}_{i+1,j} - K_{i-1,j}u^{(m+1)}_{i-1,j}. \\tag{25} $$\n",
    "\n",
    "Evidently, we now no longer have spatially constant coefficients.  However, because we still have the same structure, we can still solve using a similar approach! Let's first create a subroutine that allows us to set up a tridiagonal system, but with heterogeneous coefficients."
   ]
  },
  {
   "cell_type": "code",
   "execution_count": 12,
   "metadata": {},
   "outputs": [],
   "source": [
    "def Setup_Tridiagonal_Heterogeneous(a,b,c,n):\n",
    "    '''Set up regular tridiagonal matrix \n",
    "    usage: x = Gauss_elimination(A,b,print_process=False):\n",
    "    input: \n",
    "        a: values along -1 diagonal (n-1 vector length)\n",
    "        b: values along 0  diagonal (n   vector length)\n",
    "        c: values along +1 diagonal (n-1 vector length)\n",
    "        n: dimension of NxN matrix\n",
    "    output:\n",
    "        A: tridiagonal matrix\n",
    "    written by Jeff Shragge, jshragge@mines.edu, 10/2019\n",
    "    '''\n",
    "    return np.diag(a, -1) + np.diag(b, 0) + np.diag(c, 1)"
   ]
  },
  {
   "cell_type": "markdown",
   "metadata": {},
   "source": [
    "We can then modify our solution mechanism above to incorporate the spatially varying coefficients.  "
   ]
  },
  {
   "cell_type": "code",
   "execution_count": 13,
   "metadata": {},
   "outputs": [],
   "source": [
    "def ADI_Solution_Heterogeneous(U,K):\n",
    "    '''Set up Alternating Direction Solution of Laplace Equation in Heterogeneous media\n",
    "    usage: U = ADI_Solution(U,K)\n",
    "    input: \n",
    "        U: starting field\n",
    "        K: Heterogenerous Diffusion field (function of x and y)\n",
    "    output:\n",
    "        U: solution updated in both directions\n",
    "    dependencies:\n",
    "        Setup_Tridiagonal\n",
    "        np.linalg.solve\n",
    "    written by Jeff Shragge, jshragge@mines.edu, 10/2019\n",
    "    '''    \n",
    "    nx,ny = np.size(U,0),np.size(U,1)\n",
    "    U1    = np.zeros((nx,ny))\n",
    "    \n",
    "    ## . . Coefficients for x\n",
    "    axmat = np.zeros((nx-1))\n",
    "    bxmat = np.zeros((nx  ))\n",
    "    cxmat = np.zeros((nx-1))\n",
    "    bx    = np.zeros((nx  ))\n",
    "\n",
    "    ## . . Coefficients for x\n",
    "    aymat = np.zeros((ny-1))\n",
    "    bymat = np.zeros((ny  ))\n",
    "    cymat = np.zeros((ny-1))\n",
    "    by    = np.zeros((ny  ))\n",
    "\n",
    "    ## . . Loop over j (y)\n",
    "    for jj in range(1,ny-1):\n",
    "        \n",
    "        axmat = K[0:nx-1,jj]\n",
    "        bxmat = -2.*K[:,jj]-K[:,jj-1]-np.insert(K[0:nx-1,jj],0,0)\n",
    "        cxmat = K[1:nx  ,jj]\n",
    "        \n",
    "        ## . . have to set this up each time b/c is heterogeneous now\n",
    "        Ax = Setup_Tridiagonal_Heterogeneous(axmat,bxmat,cxmat,nx)\n",
    "        bx = -np.multiply(K[:,jj],U[:,jj+1]) - np.multiply(K[:,jj-1],U[:,jj-1])\n",
    "                                       \n",
    "        U1[:,jj] = np.linalg.solve(Ax,bx)\n",
    "        \n",
    "    ## . . Force boundary conditions\n",
    "    U1[:   ,0] = U[:   ,0]\n",
    "    U1[0   ,:] = U[0   ,:]\n",
    "    U1[:,ny-1] = U[:,ny-1]\n",
    "    U1[nx-1,:] = U[nx-1,:]\n",
    "\n",
    "    ## . . Loop over i (x)\n",
    "    for ii in range(1,nx-1):\n",
    "        aymat =     K[ii,0:ny-1]\n",
    "        bymat = -2.*K[ii,:     ]-K[ii-1,:]-np.insert(K[ii,0:ny-1],0,0)\n",
    "        cymat =     K[ii,1:ny  ]\n",
    "\n",
    "        ## . . have to set this up each time b/c is heterogeneous now\n",
    "        Ay = Setup_Tridiagonal_Heterogeneous(aymat,bymat,cymat,ny)\n",
    "        by = -np.multiply(K[ii,:],U1[ii+1,:]) - np.multiply(K[ii-1,:],U1[ii-1,:])\n",
    "        \n",
    "        U[ii,:] = np.linalg.solve(Ay,by)\n",
    "        \n",
    "    ## . .Force boundary conditions\n",
    "    U[:   ,0] = U1[:   ,0]\n",
    "    U[0   ,:] = U1[0   ,:]\n",
    "    U[:,ny-1] = U1[:,ny-1]\n",
    "    U[nx-1,:] = U1[nx-1,:]\n",
    "    return U"
   ]
  },
  {
   "cell_type": "code",
   "execution_count": 14,
   "metadata": {},
   "outputs": [
    {
     "data": {
      "text/html": [
       "\n",
       "<video width=\"800\" controls style=\"display:block; margin:0 auto;\">\n",
       "  <source src=\"./movies/Ex5_3.mp4\" type=\"video/mp4\">\n",
       "</video>\n"
      ],
      "text/plain": [
       "<IPython.core.display.HTML object>"
      ]
     },
     "execution_count": 14,
     "metadata": {},
     "output_type": "execute_result"
    }
   ],
   "source": [
    "## . . Space axis parameters\n",
    "nt = 250 # number of iterations\n",
    "xmin,xmax,ymin,ymax=0,3,0,3\n",
    "nx,ny=50,50\n",
    "xx = np.linspace(xmin,xmax,nx)\n",
    "yy = np.linspace(ymin,ymax,ny)\n",
    "h = xx[1]-xx[0]\n",
    "\n",
    "## . . Initialize\n",
    "U0 = np.zeros((nx,ny))\n",
    "\n",
    "## . . Boundary Conditions\n",
    "U0[:   ,0] = xx**4\n",
    "U0[0   ,:] = yy**4\n",
    "U0[:,ny-1] = 81-54*xx**2+xx**4\n",
    "U0[nx-1,:] = 81-54*yy**2+yy**4\n",
    "\n",
    "# . . Plotting min/max\n",
    "vmin,vmax = np.min(U0),np.max(U0)\n",
    "\n",
    "## . . Heterogeneous solution\n",
    "xxx, yyy = np.meshgrid(xx, yy, sparse=True)\n",
    "K = np.zeros((nx,ny))+1 - 0.75*np.exp((-(xxx-3)**2-(yyy-3)**2))+np.exp((-(xxx-0)**2-(yyy-3)**2))+np.exp((-(xxx-3)**2-(yyy-0)**2))\n",
    "Kmin,Kmax = np.min(K),np.max(K)\n",
    "\n",
    "## . . Movie solution\n",
    "f = np.zeros((nx,ny,nt))\n",
    "\n",
    "## . . Call Solution\n",
    "for i in range(nt):\n",
    "    f[:,:,i]=U0\n",
    "    value = ADI_Solution_Heterogeneous(U0,K)\n",
    "    U0 = value\n",
    "\n",
    "## . . Animate Solution and compute error\n",
    "k = 0\n",
    "kskip = 5\n",
    "\n",
    "## . . Set up movie\n",
    "fig4,ax4 = plt.subplots(1,3)\n",
    "fig4.subplots_adjust(0,0,1,1)\n",
    "fig4.set_dpi(100)\n",
    "\n",
    "def Laplace_heterogeneous_animate(i):\n",
    "    global k\n",
    "    x = f[:,:,k]\n",
    "    y = c[:,:,k]\n",
    "    ax4[0].imshow(K,cmap='jet',extent=[xmin,xmax,ymin,ymax],vmin=Kmin,vmax=Kmax)\n",
    "    ax4[0].set(xlabel='X(m)', ylabel='Y(m)')\n",
    "    ax4[0].set_title('K(x,y)',fontsize=12)\n",
    "    ax4[1].imshow(x ,cmap='jet',extent=[xmin,xmax,ymin,ymax],vmin=vmin,vmax=vmax)\n",
    "    ax4[1].set(xlabel='X(m)', ylabel='Y(m)')\n",
    "    ax4[1].set_title('K(x,y) Step %s'%k,fontsize=12)\n",
    "    ax4[2].imshow(y ,cmap='jet',extent=[xmin,xmax,ymin,ymax],vmin=vmin,vmax=vmax)\n",
    "    ax4[2].set(xlabel='X(m)', ylabel='Y(m)')\n",
    "    ax4[2].set_title('K const Step %s'%k,fontsize=12)\n",
    "    k += kskip\n",
    "    plt.tight_layout()\n",
    "\n",
    "## . . Call the animator\n",
    "anim4 = animation.FuncAnimation(fig4,Laplace_heterogeneous_animate,frames=int((nt-2*kskip)/kskip),interval=100)\n",
    "anim4.save('./movies/Ex5_3.mp4')\n",
    "plt.close()\n",
    "\n",
    "HTML(\"\"\"\n",
    "<video width=\"800\" controls style=\"display:block; margin:0 auto;\">\n",
    "  <source src=\"./movies/Ex5_3.mp4\" type=\"video/mp4\">\n",
    "</video>\n",
    "\"\"\")"
   ]
  },
  {
   "cell_type": "markdown",
   "metadata": {},
   "source": [
    "**Figure 8. Illustration of the differences in solution when using a spatially varying thermal conductivity field.  The left panel shows a thermal conductivity $K(x,y)$ that is a function of the two spatial coordinates. The middel panel shows how the solution evolves using a solver that takes $K(x,y)$ into account.  The right panel is for the homogeneous $K_0$ solution above.  Evidently, the blue regions on the left tend to slow down the evolution of the thermal solution, while those in the red do the opposite.**"
   ]
  },
  {
   "cell_type": "code",
   "execution_count": null,
   "metadata": {},
   "outputs": [],
   "source": []
  }
 ],
 "metadata": {
  "kernelspec": {
   "display_name": "Python 3",
   "language": "python",
   "name": "python3"
  },
  "language_info": {
   "codemirror_mode": {
    "name": "ipython",
    "version": 3
   },
   "file_extension": ".py",
   "mimetype": "text/x-python",
   "name": "python",
   "nbconvert_exporter": "python",
   "pygments_lexer": "ipython3",
   "version": "3.5.5"
  }
 },
 "nbformat": 4,
 "nbformat_minor": 2
}
